{
 "cells": [
  {
   "cell_type": "markdown",
   "id": "0352c98e",
   "metadata": {},
   "source": [
    "### A1. Question for Analysis\n",
    "Q: Does Tenure have an impact on customer churn rates?"
   ]
  },
  {
   "cell_type": "markdown",
   "id": "4b0163e5",
   "metadata": {},
   "source": [
    "### A2. Benefit From Analysis\n",
    "Knowing how tenure affects churn rates would help in the development of strategies to keep customers using the company's services. If customers are more likely to leave in the first six months of service, then stakeholders would know they need to provide more benefits/discounts during that time compared to customers that have been with them longer."
   ]
  },
  {
   "cell_type": "markdown",
   "id": "2a151fca",
   "metadata": {},
   "source": [
    "### A3. Data Identification\n",
    "Tenure: This variable measures the length of time a customer has been with the company. It is continuous, and is stored as a float.\n",
    "\n",
    "Churn: This is a categorical variable that records \"Yes\" or \"No\" to whether or not a customer is staying with the company. That makes it one of the most important variables in the data set because it directly correlates with profitability.\n"
   ]
  },
  {
   "cell_type": "markdown",
   "id": "e67311dd",
   "metadata": {},
   "source": [
    "### B1. Code"
   ]
  },
  {
   "cell_type": "code",
   "execution_count": 1,
   "id": "4657df73",
   "metadata": {},
   "outputs": [],
   "source": [
    "#Read in the data set\n",
    "df <- read.csv(file = \"C:/Users/Conner/OneDrive/WGU/D207/Data set/churn_clean.csv\")"
   ]
  },
  {
   "cell_type": "code",
   "execution_count": 2,
   "id": "55bd6dbd",
   "metadata": {},
   "outputs": [
    {
     "name": "stderr",
     "output_type": "stream",
     "text": [
      "Warning message:\n",
      "\"package 'ggplot2' was built under R version 3.6.3\"Warning message:\n",
      "\"package 'DescTools' was built under R version 3.6.3\""
     ]
    }
   ],
   "source": [
    "#Load relevant libraries\n",
    "library(ggplot2)\n",
    "library(DescTools)"
   ]
  },
  {
   "cell_type": "code",
   "execution_count": 4,
   "id": "7f314ad1",
   "metadata": {},
   "outputs": [],
   "source": [
    "#Create a 0/1 column for churn answers [1]\n",
    "churn_col <- ifelse(df$Churn == \"Yes\", 1, 0)"
   ]
  },
  {
   "cell_type": "code",
   "execution_count": 5,
   "id": "4a62409c",
   "metadata": {},
   "outputs": [
    {
     "data": {
      "text/plain": [
       "\n",
       "\tWelch Two Sample t-test\n",
       "\n",
       "data:  t and f\n",
       "t = -68.826, df = 7602.3, p-value < 2.2e-16\n",
       "alternative hypothesis: true difference in means is not equal to 0\n",
       "95 percent confidence interval:\n",
       " -29.91485 -28.25800\n",
       "sample estimates:\n",
       "mean of x mean of y \n",
       " 13.14767  42.23409 \n"
      ]
     },
     "metadata": {},
     "output_type": "display_data"
    }
   ],
   "source": [
    "#Execute t-test between churn and tenure variables (Bruce, Peter, et al. 2020)\n",
    "t <- df[churn_col == 1, 'Tenure']\n",
    "f <- df[churn_col == 0, 'Tenure']\n",
    "t.test(t, f)"
   ]
  },
  {
   "cell_type": "markdown",
   "id": "fe6a4b63",
   "metadata": {},
   "source": [
    "### B2. Output\n",
    "Welch Two Sample t-test\n",
    "\n",
    "data:  t and f\n",
    "\n",
    "t = -68.826, df = 7602.3, p-value < 2.2e-16\n",
    "\n",
    "alternative hypothesis: true difference in means is not equal to 0\n",
    "\n",
    "95 percent confidence interval:\n",
    "\n",
    " -29.91485 -28.25800\n",
    " \n",
    "sample estimates:\n",
    "\n",
    "mean of x mean of y \n",
    "\n",
    " 13.14767  42.23409"
   ]
  },
  {
   "cell_type": "markdown",
   "id": "3e1cd924",
   "metadata": {},
   "source": [
    "### B3. Justification\n",
    "Using the t-test for this specific analysis was the best choice because of the number of variables being analyzed and their data types. A t-test is the best choice for comparing only two variables, as opposed to many. Additionally, one of those types is categorical, with only two options (True/False), and the other is numerical. The result of the t-test, the calculated p-value shown above, shows the strength of the relationship of the two variables. This helps directly answer the question in section A1.  "
   ]
  },
  {
   "cell_type": "markdown",
   "id": "009b1f34",
   "metadata": {},
   "source": [
    "### C. Univariate Statistics"
   ]
  },
  {
   "cell_type": "code",
   "execution_count": 6,
   "id": "e096a248",
   "metadata": {},
   "outputs": [
    {
     "data": {
      "text/plain": [
       "   Min. 1st Qu.  Median    Mean 3rd Qu.    Max. \n",
       "  1.000   7.918  35.431  34.526  61.480  71.999 "
      ]
     },
     "metadata": {},
     "output_type": "display_data"
    },
    {
     "data": {
      "text/plain": [
       "tenure_freq\n",
       "    [1,8.1]  (8.1,15.2] (15.2,22.3] (22.3,29.4] (29.4,36.5] (36.5,43.6] \n",
       "       2560        1634         636         146          32         239 \n",
       "(43.6,50.7] (50.7,57.8] (57.8,64.9]   (64.9,72] \n",
       "        583         969        1465        1736 "
      ]
     },
     "metadata": {},
     "output_type": "display_data"
    }
   ],
   "source": [
    "#Continuous variable (Bruce, Peter, et al. 2020)\n",
    "#Summarize the data and create a frequency table\n",
    "summary(df$Tenure)\n",
    "breaks <- seq(from=min(df[['Tenure']]), to=max(df[['Tenure']]), length = 11)\n",
    "tenure_freq <- cut(df[['Tenure']], breaks = breaks, right = TRUE, include.lowest = TRUE)\n",
    "table(tenure_freq)"
   ]
  },
  {
   "cell_type": "markdown",
   "id": "06ee2182",
   "metadata": {},
   "source": [
    "From these summary statistics you can see that while the median and mean of the column falls around 35, there is actually a bimodal distribution of the data. By looking at the frequency table it appears that the majority of values falls into two larger clumps near either end of the distribution. "
   ]
  },
  {
   "cell_type": "code",
   "execution_count": 7,
   "id": "9a1b49f0",
   "metadata": {},
   "outputs": [
    {
     "data": {
      "text/html": [
       "<dl class=dl-horizontal>\n",
       "\t<dt>No</dt>\n",
       "\t\t<dd>7350</dd>\n",
       "\t<dt>Yes</dt>\n",
       "\t\t<dd>2650</dd>\n",
       "</dl>\n"
      ],
      "text/latex": [
       "\\begin{description*}\n",
       "\\item[No] 7350\n",
       "\\item[Yes] 2650\n",
       "\\end{description*}\n"
      ],
      "text/markdown": [
       "No\n",
       ":   7350Yes\n",
       ":   2650\n",
       "\n"
      ],
      "text/plain": [
       "  No  Yes \n",
       "7350 2650 "
      ]
     },
     "metadata": {},
     "output_type": "display_data"
    }
   ],
   "source": [
    "#Categorical variable\n",
    "summary(df$Churn)"
   ]
  },
  {
   "cell_type": "markdown",
   "id": "9d1a33e0",
   "metadata": {},
   "source": [
    "Churn skews heavily towards \"No\", with it being 73.5% of the values while \"Yes\" is 26.5%. "
   ]
  },
  {
   "cell_type": "code",
   "execution_count": 8,
   "id": "4d60c7d8",
   "metadata": {},
   "outputs": [
    {
     "data": {
      "text/plain": [
       "    Min.  1st Qu.   Median     Mean  3rd Qu.     Max. \n",
       "   348.7  19224.7  33170.6  39806.9  53246.2 258900.7 "
      ]
     },
     "metadata": {},
     "output_type": "display_data"
    },
    {
     "data": {
      "text/plain": [
       "income_freq\n",
       "     [349,2.62e+04] (2.62e+04,5.21e+04] (5.21e+04,7.79e+04] (7.79e+04,1.04e+05] \n",
       "               3822                3560                1624                 657 \n",
       " (1.04e+05,1.3e+05]  (1.3e+05,1.55e+05] (1.55e+05,1.81e+05] (1.81e+05,2.07e+05] \n",
       "                220                  81                  26                   5 \n",
       "(2.07e+05,2.33e+05] (2.33e+05,2.59e+05] \n",
       "                  3                   2 "
      ]
     },
     "metadata": {},
     "output_type": "display_data"
    }
   ],
   "source": [
    "#Continuous variable\n",
    "#Summarize the data and create a frequency table\n",
    "summary(df$Income)\n",
    "inc_breaks <- seq(from=min(df[['Income']]), to=max(df[['Income']]), length = 11)\n",
    "income_freq <- cut(df[['Income']], breaks = inc_breaks, right = TRUE, include.lowest = TRUE)\n",
    "table(income_freq)"
   ]
  },
  {
   "cell_type": "markdown",
   "id": "eb819cdb",
   "metadata": {},
   "source": [
    "The income distribution appears heavily skewed towards the lower end, with most of the values falling into the first 3 bins. "
   ]
  },
  {
   "cell_type": "code",
   "execution_count": 9,
   "id": "b2062352",
   "metadata": {},
   "outputs": [
    {
     "data": {
      "text/html": [
       "<dl class=dl-horizontal>\n",
       "\t<dt>Female</dt>\n",
       "\t\t<dd>5025</dd>\n",
       "\t<dt>Male</dt>\n",
       "\t\t<dd>4744</dd>\n",
       "\t<dt>Nonbinary</dt>\n",
       "\t\t<dd>231</dd>\n",
       "</dl>\n"
      ],
      "text/latex": [
       "\\begin{description*}\n",
       "\\item[Female] 5025\n",
       "\\item[Male] 4744\n",
       "\\item[Nonbinary] 231\n",
       "\\end{description*}\n"
      ],
      "text/markdown": [
       "Female\n",
       ":   5025Male\n",
       ":   4744Nonbinary\n",
       ":   231\n",
       "\n"
      ],
      "text/plain": [
       "   Female      Male Nonbinary \n",
       "     5025      4744       231 "
      ]
     },
     "metadata": {},
     "output_type": "display_data"
    }
   ],
   "source": [
    "#Categorical variable\n",
    "#Summarize the data\n",
    "summary(df$Gender)"
   ]
  },
  {
   "cell_type": "markdown",
   "id": "fabb1062",
   "metadata": {},
   "source": [
    "There is a fairly equal distribution between genders, with Males at 47.44% coming up just below Females at 50.25%. Nonbinary makes up a very small percentage at around 2.31%."
   ]
  },
  {
   "cell_type": "markdown",
   "id": "75e235ac",
   "metadata": {},
   "source": [
    "### C1. Visual of Findings"
   ]
  },
  {
   "cell_type": "code",
   "execution_count": 10,
   "id": "a89f8e74",
   "metadata": {},
   "outputs": [
    {
     "data": {
      "image/png": "[encoded data removed]",
      "text/plain": [
       "plot without title"
      ]
     },
     "metadata": {},
     "output_type": "display_data"
    },
    {
     "data": {
      "image/png": "[encoded data removed]",
      "text/plain": [
       "plot without title"
      ]
     },
     "metadata": {},
     "output_type": "display_data"
    }
   ],
   "source": [
    "#Display distributions of both continuous variables [3]\n",
    "#Tenure\n",
    "tenure_hist <- ggplot(df, aes(x = Tenure)) + geom_histogram(bins = 10)\n",
    "#Income\n",
    "income_hist <- ggplot(df, aes(x = Income)) + geom_histogram(bins = 10)\n",
    "tenure_hist\n",
    "income_hist"
   ]
  },
  {
   "cell_type": "code",
   "execution_count": 11,
   "id": "4f26ed15",
   "metadata": {},
   "outputs": [
    {
     "data": {
      "image/png": "[encoded data removed]",
      "text/plain": [
       "plot without title"
      ]
     },
     "metadata": {},
     "output_type": "display_data"
    },
    {
     "data": {
      "image/png": "[encoded data removed]",
      "text/plain": [
       "plot without title"
      ]
     },
     "metadata": {},
     "output_type": "display_data"
    }
   ],
   "source": [
    "#Display distributions of categorical variables [3]\n",
    "#Churn\n",
    "churn_hist <- ggplot(df, aes(x = Churn)) + geom_bar()\n",
    "#Gender\n",
    "gender_hist <- ggplot(df, aes(x = Gender)) + geom_bar()\n",
    "churn_hist\n",
    "gender_hist"
   ]
  },
  {
   "cell_type": "markdown",
   "id": "66bdcc31",
   "metadata": {},
   "source": [
    "### D. Bivariate Statistics & D1. Visual of Findings"
   ]
  },
  {
   "cell_type": "code",
   "execution_count": 6,
   "id": "56850e2f",
   "metadata": {},
   "outputs": [
    {
     "data": {
      "text/plain": [
       "------------------------------------------------------------------------------ \n",
       "Tenure and Churn Frequency Distribution\n",
       "\n",
       "Summary: \n",
       "n pairs: 10'000, valid: 10'000 (100.0%), missings: 0 (0.0%), groups: 2\n",
       "\n",
       "                        \n",
       "             No      Yes\n",
       "mean     42.234   13.148\n",
       "median   53.774    7.874\n",
       "sd       25.292   15.577\n",
       "IQR      51.754    9.689\n",
       "n         7'350    2'650\n",
       "np      73.500%  26.500%\n",
       "NAs           0        0\n",
       "0s            0        0\n",
       "\n",
       "Kruskal-Wallis rank sum test:\n",
       "  Kruskal-Wallis chi-squared = 2196, df = 1, p-value < 2.2e-16\n",
       "\n",
       "\n"
      ]
     },
     "metadata": {},
     "output_type": "display_data"
    },
    {
     "data": {
      "image/png": "[encoded data removed]",
      "text/plain": [
       "Plot with title \"Tenure and Churn Frequency Distribution\""
      ]
     },
     "metadata": {},
     "output_type": "display_data"
    }
   ],
   "source": [
    "#Churn and tenure distribution [2]\n",
    "Desc(df$Tenure ~ df$Churn, main = \"Tenure and Churn Frequency Distribution\", nolabel = FALSE)"
   ]
  },
  {
   "cell_type": "markdown",
   "id": "e2f40777",
   "metadata": {},
   "source": [
    "There are clear distinctions in the distributions of churn as it relates to tenure. The majority (inner quartile range) of \"yes\" falls below 12 months, while \"no\" is largely above that. "
   ]
  },
  {
   "cell_type": "code",
   "execution_count": 13,
   "id": "8de2d15b",
   "metadata": {},
   "outputs": [
    {
     "data": {
      "text/plain": [
       "------------------------------------------------------------------------------ \n",
       "df$Gender ~ df$Income\n",
       "\n",
       "Summary: \n",
       "n pairs: 10'000, valid: 10'000 (100.0%), missings: 0 (0.0%), groups: 3\n",
       "\n",
       "                                          \n",
       "            Female        Male   Nonbinary\n",
       "mean    40'422.679  39'098.450  40'962.162\n",
       "median  33'883.790  32'393.240  33'203.620\n",
       "sd      28'341.798  27'920.534  30'500.332\n",
       "IQR     35'166.900  32'636.603  34'179.405\n",
       "n            5'025       4'744         231\n",
       "np         50.250%     47.440%      2.310%\n",
       "NAs              0           0           0\n",
       "0s               0           0           0\n",
       "\n",
       "Kruskal-Wallis rank sum test:\n",
       "  Kruskal-Wallis chi-squared = 5.8727, df = 2, p-value = 0.05306\n",
       "\n",
       "\n",
       "\n",
       "\n",
       "\n",
       "Proportions of df$Gender in the quantiles of df$Income:\n",
       "           \n",
       "                 Q1      Q2      Q3      Q4\n",
       "  Female      49.6%   48.8%   50.2%   52.5%\n",
       "  Male        48.2%   48.8%   47.8%   44.9%\n",
       "  Nonbinary    2.2%    2.4%    2.0%    2.6%\n"
      ]
     },
     "metadata": {},
     "output_type": "display_data"
    },
    {
     "data": {
      "image/png": "[encoded data removed]",
      "text/plain": [
       "Plot with title \"df$Gender ~ df$Income\""
      ]
     },
     "metadata": {},
     "output_type": "display_data"
    }
   ],
   "source": [
    "#Gender and income distribution [2]\n",
    "Desc(df$Gender ~ df$Income)"
   ]
  },
  {
   "cell_type": "markdown",
   "id": "acb30e31",
   "metadata": {},
   "source": [
    "There is little variability in distributions in income as it relates to gender. All three categorical answers have very similar means and IQR."
   ]
  },
  {
   "cell_type": "markdown",
   "id": "ca40481a",
   "metadata": {},
   "source": [
    "### E1. Results of Analysis\n",
    "\n",
    "The Null Hypothesis for this experiment/analysis is that tenure is not linked to churn in a statistically significant way. The Alternative Hypothesis then is that there is a significant connection. Based on the results of the t-test, which produced a p-value of < 2.2e-16, shows that tenure affects churn with a > 95% confidence. Therefore we can reject the Null Hypothesis. Additionally, looking at the boxplot of churn and tenure, it is visually clear that the median and bulk of the customer churn occurs early into their tenure (<12 months). "
   ]
  },
  {
   "cell_type": "markdown",
   "id": "5d16944d",
   "metadata": {},
   "source": [
    "### E2. Limitations of Analysis\n",
    "\n",
    "One potential limitation is the exclusion of analysing other variables. Tenure is likely a correlated variable to churn, but doesn't seem to be the cause of churn. If the analysis was continued with the rest of the variables in the data set, it might be possible to find one or a few that directly cause churn. Another limitation is a lack of specific actionable analysis. From what is shown above, one can draw some basic conclusions about tenure and churn, however further analysis could include forecasting of when a customer might leave. This might be more accurate, and could have a greater positive effect on customer retention. "
   ]
  },
  {
   "cell_type": "markdown",
   "id": "458d9549",
   "metadata": {},
   "source": [
    "### E3. Recommended Course of Action\n",
    "\n",
    "Looking at the results of the preceding analysis, it is clear that tenure has a strong relationship to churn rates. Because of this, I would recommend the company use more resources to focus on retaining customers that have been with them for less than approximately 12 months. This could include more targeted marketing, special promotions/pricing, or other incentives."
   ]
  },
  {
   "cell_type": "markdown",
   "id": "81becd64",
   "metadata": {},
   "source": [
    "### G. Sources for Third-Party Code\n",
    "\n",
    "1. (How to change the code \"Yes\" to 1 in an R data frame column?)https://www.tutorialspoint.com/how-to-change-the-code-yes-to-1-in-an-r-data-frame-column\n",
    "\n",
    "2. (Describe Data)https://rdrr.io/cran/DescTools/man/Desc.html\n",
    "\n",
    "3. (ggplot2 histogram plot : Quick start guide - R software and data visualization) http://www.sthda.com/english/wiki/ggplot2-histogram-plot-quick-start-guide-r-software-and-data-visualization"
   ]
  },
  {
   "cell_type": "markdown",
   "id": "a5d602f2",
   "metadata": {},
   "source": [
    "### H. Sources\n",
    "\n",
    "4. Bruce, Peter, et al. Practical Statistics for Data Scientists : 50+ Essential Concepts Using R and Python, O'Reilly Media, Incorporated, 2020. ProQuest Ebook Central, https://ebookcentral.proquest.com/lib/westerngovernors-ebooks/detail.action?docID=6173908."
   ]
  }
 ],
 "metadata": {
  "kernelspec": {
   "display_name": "R",
   "language": "R",
   "name": "ir"
  },
  "language_info": {
   "codemirror_mode": "r",
   "file_extension": ".r",
   "mimetype": "text/x-r-source",
   "name": "R",
   "pygments_lexer": "r",
   "version": "3.6.1"
  }
 },
 "nbformat": 4,
 "nbformat_minor": 5
}
